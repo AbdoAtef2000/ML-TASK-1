{
 "cells": [
  {
   "cell_type": "code",
   "execution_count": 1,
   "metadata": {},
   "outputs": [],
   "source": [
    "\n",
    "\n",
    "import os\n",
    "import cv2\n",
    "import glob\n",
    "import random\n",
    "import pywt\n",
    "import numpy as np\n",
    "import tensorflow as tf\n",
    "import matplotlib.pyplot as plt\n",
    "from keras.models import Model\n",
    "import tensorflow.keras.backend as Kback\n",
    "from tensorflow.keras.models import Sequential\n",
    "from tensorflow.keras.applications import Xception\n",
    "from sklearn.model_selection import train_test_split\n",
    "from tensorflow.keras.layers import Conv2D, MaxPooling2D, Flatten, Dense, Input, Concatenate, Reshape, Dropout, BatchNormalization, Activation, MaxPooling2D, GlobalAveragePooling2D\n",
    "\n"
   ]
  },
  {
   "cell_type": "code",
   "execution_count": 2,
   "metadata": {},
   "outputs": [
    {
     "name": "stdout",
     "output_type": "stream",
     "text": [
      "557\n"
     ]
    }
   ],
   "source": [
    "imgPaths = []\n",
    "\n",
    "for x in os.walk('train'):\n",
    "    for y in glob.glob(os.path.join(x[0], '*.jpg')):\n",
    "        imgPaths.append(y)\n",
    "        \n",
    "random.shuffle(imgPaths)\n",
    "print(len(imgPaths))"
   ]
  },
  {
   "cell_type": "code",
   "execution_count": 3,
   "metadata": {},
   "outputs": [],
   "source": [
    "\n",
    "\n",
    "imgLabels = []\n",
    "\n",
    "for path in imgPaths:\n",
    "    word = (path.split('/')[-1]).split('.')[0]\n",
    "    if word == 'cat':\n",
    "        imgLabels.append(1) #Cat\n",
    "    else:\n",
    "        imgLabels.append(0) #Dog\n",
    "\n"
   ]
  },
  {
   "cell_type": "code",
   "execution_count": 4,
   "metadata": {},
   "outputs": [],
   "source": [
    "imgData = []\n",
    "for path in imgPaths:\n",
    "    img = cv2.imread(path)\n",
    "    img = cv2.resize(img, (224, 224))\n",
    "    imgData.append(img)"
   ]
  },
  {
   "cell_type": "code",
   "execution_count": 5,
   "metadata": {},
   "outputs": [],
   "source": [
    "\n",
    "\n",
    "imgData = np.array(imgData)\n",
    "imgLabels = np.array(imgLabels)\n",
    "\n"
   ]
  },
  {
   "cell_type": "code",
   "execution_count": 6,
   "metadata": {},
   "outputs": [],
   "source": [
    "X_train, X_val, Y_train, Y_val = train_test_split(imgData, imgLabels, test_size = 0.2, random_state=42)"
   ]
  },
  {
   "cell_type": "code",
   "execution_count": 7,
   "metadata": {},
   "outputs": [
    {
     "name": "stderr",
     "output_type": "stream",
     "text": [
      "c:\\Users\\dell\\AppData\\Local\\Programs\\Python\\Python311\\Lib\\site-packages\\keras\\src\\layers\\convolutional\\base_conv.py:107: UserWarning: Do not pass an `input_shape`/`input_dim` argument to a layer. When using Sequential models, prefer using an `Input(shape)` object as the first layer in the model instead.\n",
      "  super().__init__(activity_regularizer=activity_regularizer, **kwargs)\n"
     ]
    }
   ],
   "source": [
    "IMAGE_CHANNELS=3\n",
    "model = Sequential([\n",
    "\n",
    "Conv2D(32, (3, 3), activation='relu', input_shape=(224, 224, IMAGE_CHANNELS)),\n",
    "BatchNormalization(),\n",
    "MaxPooling2D(pool_size=(2, 2)),\n",
    "Dropout(0.25),\n",
    "\n",
    "Conv2D(64, (3, 3), activation='relu'),\n",
    "BatchNormalization(),\n",
    "MaxPooling2D(pool_size=(2, 2)),\n",
    "Dropout(0.25),\n",
    "\n",
    "Conv2D(128, (3, 3), activation='relu'),\n",
    "BatchNormalization(),\n",
    "MaxPooling2D(pool_size=(2, 2)),\n",
    "Dropout(0.25),\n",
    "\n",
    "Flatten(),\n",
    "Dense(512, activation='relu'),\n",
    "BatchNormalization(),\n",
    "Dropout(0.5),\n",
    "Dense(1, activation='sigmoid'), # 2 because we have cat and dog classes\n",
    "])\n",
    "model.compile(loss='binary_crossentropy', optimizer='adam', metrics=['accuracy'])"
   ]
  },
  {
   "cell_type": "code",
   "execution_count": 9,
   "metadata": {},
   "outputs": [
    {
     "name": "stdout",
     "output_type": "stream",
     "text": [
      "Epoch 1/10\n",
      "\u001b[1m14/14\u001b[0m \u001b[32m━━━━━━━━━━━━━━━━━━━━\u001b[0m\u001b[37m\u001b[0m \u001b[1m35s\u001b[0m 2s/step - accuracy: 0.4885 - loss: 1.4543 - val_accuracy: 0.0893 - val_loss: 4.0215\n",
      "Epoch 2/10\n",
      "\u001b[1m14/14\u001b[0m \u001b[32m━━━━━━━━━━━━━━━━━━━━\u001b[0m\u001b[37m\u001b[0m \u001b[1m34s\u001b[0m 2s/step - accuracy: 0.6648 - loss: 0.6542 - val_accuracy: 0.1607 - val_loss: 1.4187\n",
      "Epoch 3/10\n",
      "\u001b[1m14/14\u001b[0m \u001b[32m━━━━━━━━━━━━━━━━━━━━\u001b[0m\u001b[37m\u001b[0m \u001b[1m35s\u001b[0m 3s/step - accuracy: 0.7232 - loss: 0.5991 - val_accuracy: 0.7054 - val_loss: 0.5561\n",
      "Epoch 4/10\n",
      "\u001b[1m14/14\u001b[0m \u001b[32m━━━━━━━━━━━━━━━━━━━━\u001b[0m\u001b[37m\u001b[0m \u001b[1m36s\u001b[0m 3s/step - accuracy: 0.7736 - loss: 0.5571 - val_accuracy: 0.9821 - val_loss: 0.1062\n",
      "Epoch 5/10\n",
      "\u001b[1m14/14\u001b[0m \u001b[32m━━━━━━━━━━━━━━━━━━━━\u001b[0m\u001b[37m\u001b[0m \u001b[1m39s\u001b[0m 3s/step - accuracy: 0.8192 - loss: 0.4311 - val_accuracy: 0.9911 - val_loss: 0.1748\n",
      "Epoch 6/10\n",
      "\u001b[1m14/14\u001b[0m \u001b[32m━━━━━━━━━━━━━━━━━━━━\u001b[0m\u001b[37m\u001b[0m \u001b[1m40s\u001b[0m 3s/step - accuracy: 0.9058 - loss: 0.2817 - val_accuracy: 1.0000 - val_loss: 0.0840\n",
      "Epoch 7/10\n",
      "\u001b[1m14/14\u001b[0m \u001b[32m━━━━━━━━━━━━━━━━━━━━\u001b[0m\u001b[37m\u001b[0m \u001b[1m38s\u001b[0m 3s/step - accuracy: 0.9201 - loss: 0.2609 - val_accuracy: 1.0000 - val_loss: 0.0416\n",
      "Epoch 8/10\n",
      "\u001b[1m14/14\u001b[0m \u001b[32m━━━━━━━━━━━━━━━━━━━━\u001b[0m\u001b[37m\u001b[0m \u001b[1m39s\u001b[0m 3s/step - accuracy: 0.9134 - loss: 0.2278 - val_accuracy: 1.0000 - val_loss: 0.0108\n",
      "Epoch 9/10\n",
      "\u001b[1m14/14\u001b[0m \u001b[32m━━━━━━━━━━━━━━━━━━━━\u001b[0m\u001b[37m\u001b[0m \u001b[1m43s\u001b[0m 3s/step - accuracy: 0.9671 - loss: 0.1506 - val_accuracy: 1.0000 - val_loss: 0.0140\n",
      "Epoch 10/10\n",
      "\u001b[1m14/14\u001b[0m \u001b[32m━━━━━━━━━━━━━━━━━━━━\u001b[0m\u001b[37m\u001b[0m \u001b[1m39s\u001b[0m 3s/step - accuracy: 0.9932 - loss: 0.1210 - val_accuracy: 1.0000 - val_loss: 0.0105\n"
     ]
    }
   ],
   "source": [
    "history = model.fit(X_train, Y_train, epochs=10, validation_data=(X_val, Y_val))"
   ]
  },
  {
   "cell_type": "code",
   "execution_count": 18,
   "metadata": {},
   "outputs": [],
   "source": [
    "\n",
    "\n",
    "#Readinig test files\n",
    "testFilePaths = []\n",
    "testImageLabel = []\n",
    "testImgData = []\n",
    "\n",
    "#Reading image paths\n",
    "\n",
    "for x in os.walk('test'):\n",
    "    for y in glob.glob(os.path.join(x[0], '*.jpg')):\n",
    "        testFilePaths.append(y)\n",
    "        \n",
    "\n",
    "#Reading test image lavels\n",
    "for path in testFilePaths:\n",
    "    word = (path.split('/')[-1]).split('.')[0]\n",
    "    if word == 'cat':\n",
    "        testImageLabel.append(1) #Cat\n",
    "    else:\n",
    "        testImageLabel.append(0) #Dog\n",
    "        \n",
    "\n",
    "for path in testFilePaths:\n",
    "    img = cv2.imread(path)\n",
    "    img = cv2.resize(img, (224, 224))\n",
    "    testImgData.append(img)\n",
    "    \n",
    "#normalize the data\n",
    "testImgData = np.array(testImgData)\n",
    "testImageLabel = np.array(testImageLabel)\n",
    "\n"
   ]
  },
  {
   "cell_type": "code",
   "execution_count": 19,
   "metadata": {},
   "outputs": [
    {
     "name": "stdout",
     "output_type": "stream",
     "text": [
      "\u001b[1m22/22\u001b[0m \u001b[32m━━━━━━━━━━━━━━━━━━━━\u001b[0m\u001b[37m\u001b[0m \u001b[1m6s\u001b[0m 287ms/step - accuracy: 1.0000 - loss: 0.0081\n"
     ]
    },
    {
     "data": {
      "text/plain": [
       "[0.00903965812176466, 1.0]"
      ]
     },
     "execution_count": 19,
     "metadata": {},
     "output_type": "execute_result"
    }
   ],
   "source": [
    "model.evaluate(testImgData, testImageLabel)"
   ]
  }
 ],
 "metadata": {
  "kernelspec": {
   "display_name": "Python 3",
   "language": "python",
   "name": "python3"
  },
  "language_info": {
   "codemirror_mode": {
    "name": "ipython",
    "version": 3
   },
   "file_extension": ".py",
   "mimetype": "text/x-python",
   "name": "python",
   "nbconvert_exporter": "python",
   "pygments_lexer": "ipython3",
   "version": "3.11.1"
  }
 },
 "nbformat": 4,
 "nbformat_minor": 2
}
